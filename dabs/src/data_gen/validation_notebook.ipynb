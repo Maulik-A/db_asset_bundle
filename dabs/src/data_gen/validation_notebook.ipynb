{
 "cells": [
  {
   "cell_type": "code",
   "execution_count": null,
   "metadata": {},
   "outputs": [],
   "source": [
    "from pyspark.testing.utils import assertDataFrameEqual\n",
    "from pyspark.sql.functions import current_timestamp, col, expr\n",
    "\n",
    "#  Get data from last 30 minutes\n",
    "recent_customer_data = spark.read.table(\"mycatalog.dev.customer_bronze\")\\\n",
    "    .filter(col(\"created_date\") > current_timestamp() - expr(\"INTERVAL 10 MINUTE\"))\\\n",
    "    .count()\n",
    "\n",
    "recent_orders_data = spark.read.table(\"mycatalog.dev.orders_bronze\")\\\n",
    "    .filter(col(\"created_date\") > current_timestamp() - expr(\"INTERVAL 10 MINUTE\"))\\\n",
    "    .count()\n",
    "\n",
    "\n",
    "# Assert that previous job inserted exactly 100 records as expected\n",
    "assert recent_customer_data == 100 \n",
    "\n",
    "# Assert that previous job inserted more than 100 orders as expected\n",
    "assert recent_orders_data > 100"
   ]
  }
 ],
 "metadata": {
  "language_info": {
   "name": "python"
  }
 },
 "nbformat": 4,
 "nbformat_minor": 2
}
